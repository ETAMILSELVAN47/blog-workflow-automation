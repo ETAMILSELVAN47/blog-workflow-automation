{
 "cells": [
  {
   "cell_type": "code",
   "execution_count": 1,
   "metadata": {},
   "outputs": [
    {
     "data": {
      "text/plain": [
       "'Hello! How can I assist you today?'"
      ]
     },
     "execution_count": 1,
     "metadata": {},
     "output_type": "execute_result"
    }
   ],
   "source": [
    "import os\n",
    "from dotenv import load_dotenv\n",
    "load_dotenv()\n",
    "\n",
    "os.environ['GROQ_API_KEY']=os.getenv(key='GROQ_API_KEY')\n",
    "\n",
    "## LLM Model\n",
    "from langchain_groq import ChatGroq\n",
    "llm=ChatGroq(model='qwen-2.5-32b')\n",
    "llm.invoke('Hello').content"
   ]
  },
  {
   "cell_type": "code",
   "execution_count": 2,
   "metadata": {},
   "outputs": [],
   "source": [
    "from pydantic import BaseModel,Field\n",
    "from typing import Literal\n",
    "\n",
    "# schema for structured output to use in reviewer\n",
    "class Reviewer(BaseModel):\n",
    "    approve_or_reject:Literal['Approved','Rejected']=Field(description=\"Decision on the blog content: 'Approved' or 'Rejected'\")\n",
    "    feedback:str=Field(description=\"Reviewer feedback\")\n",
    "\n",
    "\n",
    "reviewer_llm=llm.with_structured_output(Reviewer)    "
   ]
  },
  {
   "cell_type": "code",
   "execution_count": 3,
   "metadata": {},
   "outputs": [],
   "source": [
    "from typing_extensions import TypedDict\n",
    "\n",
    "class BlogGenerateState(TypedDict):\n",
    "    topic:str\n",
    "    content:str\n",
    "    reviewer:Literal['Approved','Rejected']\n",
    "    human:Literal['Approved','Rejected']\n",
    "    feedback:str\n",
    "    final_content:str\n",
    "    blog_url:str\n"
   ]
  },
  {
   "cell_type": "code",
   "execution_count": 4,
   "metadata": {},
   "outputs": [],
   "source": [
    "import re\n",
    "\n",
    "def format_text_to_html(text):\n",
    "    \"\"\"Dynamically formats plain text to structured HTML.\"\"\"\n",
    "    lines = text.split(\"\\n\")\n",
    "    formatted_lines = []\n",
    "    in_list = False  # Flag to check if we are inside a list\n",
    "\n",
    "    for line in lines:\n",
    "        line = line.strip()\n",
    "\n",
    "        # Convert headers (### Title -> <h2>)\n",
    "        if line.startswith(\"### \"):\n",
    "            formatted_lines.append(f\"<h2>{line[4:].strip()}</h2>\")\n",
    "        elif line.startswith(\"## \"):\n",
    "            formatted_lines.append(f\"<h1>{line[3:].strip()}</h1>\")\n",
    "        \n",
    "        # Convert lists (- Item -> <ul><li>Item</li></ul>)\n",
    "        elif re.match(r\"^[-•] \", line):  \n",
    "            if not in_list:\n",
    "                formatted_lines.append(\"<ul>\")\n",
    "                in_list = True\n",
    "            formatted_lines.append(f\"<li>{line[2:].strip()}</li>\")\n",
    "        elif re.match(r\"^\\d+\\.\", line):  # Handle numbered lists (1. Item)\n",
    "            if not in_list:\n",
    "                formatted_lines.append(\"<ol>\")\n",
    "                in_list = True\n",
    "            formatted_lines.append(f\"<li>{line[3:].strip()}</li>\")\n",
    "        else:\n",
    "            if in_list:  # Close list before continuing\n",
    "                formatted_lines.append(\"</ul>\" if '-' in lines else \"</ol>\")\n",
    "                in_list = False\n",
    "            # Convert paragraphs\n",
    "            if line:\n",
    "                formatted_lines.append(f\"<p>{line}</p>\")\n",
    "\n",
    "    # Ensure list is closed at the end\n",
    "    if in_list:\n",
    "        formatted_lines.append(\"</ul>\")\n",
    "\n",
    "    return \"\\n\".join(formatted_lines)\n",
    "\n"
   ]
  },
  {
   "cell_type": "code",
   "execution_count": 5,
   "metadata": {},
   "outputs": [],
   "source": [
    "import httplib2\n",
    "from oauth2client.client import flow_from_clientsecrets\n",
    "from oauth2client.file import Storage\n",
    "from oauth2client.tools import run_flow\n",
    "from googleapiclient import discovery\n",
    "\n",
    "# Start the OAuth flow to retrieve credentials\n",
    "def authorize_credentials():\n",
    "    CLIENT_SECRET = 'client_secret.json'\n",
    "    SCOPE = 'https://www.googleapis.com/auth/blogger'\n",
    "    STORAGE = Storage('credentials.storage')\n",
    "    # Fetch credentials from storage\n",
    "    credentials = STORAGE.get()\n",
    "    # If the credentials doesn't exist in the storage location then run the flow\n",
    "    if credentials is None or credentials.invalid:\n",
    "        flow = flow_from_clientsecrets(CLIENT_SECRET, scope=SCOPE)\n",
    "        http = httplib2.Http()\n",
    "        credentials = run_flow(flow, STORAGE, http=http)\n",
    "    return credentials\n",
    "\n",
    "# print(credentials)\n",
    "def getBloggerService():\n",
    "    credentials = authorize_credentials()\n",
    "    http = credentials.authorize(httplib2.Http())\n",
    "    discoveryUrl = ('https://blogger.googleapis.com/$discovery/rest?version=v3')\n",
    "    service = discovery.build('blogger', 'v3', http=http, discoveryServiceUrl=discoveryUrl)\n",
    "    return service\n",
    "\n",
    "def postToBlogger(payload):\n",
    "    service = getBloggerService()\n",
    "    post=service.posts()\n",
    "    insert=post.insert(blogId='4629984879079699160',body=payload).execute()\n",
    "    print(\"Blog Successfully Published!\")\n",
    "    print(f\"Blog Information:\")\n",
    "    print(f\"Author:{insert['author']['displayName']}\")  \n",
    "    print(f\"Status:{insert['status']}\")  \n",
    "    print(f\"URL:{insert['url']}\")\n",
    "    return insert"
   ]
  },
  {
   "cell_type": "code",
   "execution_count": 6,
   "metadata": {},
   "outputs": [],
   "source": [
    "def blog_writer(state:BlogGenerateState):\n",
    "    \"\"\"Generates blog content based on the provided topic.\"\"\"  \n",
    "    topic=state.get('topic')  \n",
    "    feedback=state.get('feedback','')\n",
    "    if feedback:\n",
    "        response=llm.invoke(input=f\"Write a blog content about the {topic} take into account the feedback {feedback}\")\n",
    "        content=response.content\n",
    "    else:\n",
    "        response=llm.invoke(input=f\"Write a blog content about the {topic}\")\n",
    "        content=response.content\n",
    "    \n",
    "    return {'content':content}\n",
    "\n",
    "\n",
    "def blog_reviewer(state:BlogGenerateState):\n",
    "    \"\"\" Reviews the generated blog content\"\"\"\n",
    "    content=state.get('content')\n",
    "    if content:\n",
    "        response=reviewer_llm.invoke(input=f\"Review the generated blog content:\\n\\n{content}\\n\\n\"\n",
    "                                        \"Provide feedback and indicate if it is 'Approved' or 'Rejected'. \"\n",
    "                                        \"If rejected, specify necessary corrections.\")\n",
    "        return {'reviewer':response.approve_or_reject,'feedback':response.feedback}\n",
    "        \n",
    "\n",
    "def human_feedback(state:BlogGenerateState):\n",
    "    while True:\n",
    "        choice=input(prompt=\"Enter your choice (Approved/Rejected):\").strip()\n",
    "        \n",
    "        if choice not in ['Approved','Rejected']:\n",
    "            print(\"Invalid selection. Please enter 'Approved' or 'Rejected'.\")        \n",
    "            continue\n",
    "        \n",
    "        feedback=''\n",
    "        if choice=='Rejected':\n",
    "            feedback=input(\"Enter your feedback: \").strip()\n",
    "            return {'human':choice,'feedback':feedback}\n",
    "\n",
    "        if choice=='Approved':\n",
    "            return {'human':choice,'final_content':state['content']}                \n",
    "            \n",
    "\n",
    "def reviewer_approval(state:BlogGenerateState):\n",
    "    return state.get('reviewer')\n",
    "\n",
    "def human_approval(state:BlogGenerateState):\n",
    "    return state.get('human')\n",
    "\n",
    "def blog_publisher(state:BlogGenerateState):\n",
    "    title = state.get('topic')\n",
    "    content=state.get('final_content')\n",
    "\n",
    "    formatted_content = f\"\"\"\n",
    "    <html>\n",
    "<head>\n",
    "    <title>{title}</title>\n",
    "</head>\n",
    "<body>\n",
    "    {format_text_to_html(content)}\n",
    "</body>\n",
    "</html>\n",
    "\"\"\"\n",
    "\n",
    "\n",
    "# print(htmlData)\n",
    "\n",
    "    customMetaData = \"This is meta data\"\n",
    "    payload={\n",
    "        \"content\": formatted_content,\n",
    "        \"title\": title,\n",
    "        \"contentType\": \"html\",  # Explicitly tell Blogger to treat this as HTML\n",
    "        'customMetaData': customMetaData\n",
    "    }\n",
    "    blog_data=postToBlogger(payload)\n",
    "    return {'blog_url':blog_data['url']}\n"
   ]
  },
  {
   "cell_type": "code",
   "execution_count": 7,
   "metadata": {},
   "outputs": [
    {
     "data": {
      "image/png": "[encoded data removed]",
      "text/plain": [
       "<IPython.core.display.Image object>"
      ]
     },
     "metadata": {},
     "output_type": "display_data"
    }
   ],
   "source": [
    "from langgraph.graph import StateGraph,START,END\n",
    "from IPython.display import Image,display\n",
    "from langgraph.checkpoint.memory import MemorySaver\n",
    "\n",
    "blog_workflow=StateGraph(BlogGenerateState)\n",
    "\n",
    "# define the nodes\n",
    "blog_workflow.add_node('Blog Writer',blog_writer)\n",
    "blog_workflow.add_node('Blog Reviewer',blog_reviewer)\n",
    "blog_workflow.add_node('Human',human_feedback)\n",
    "blog_workflow.add_node('Blog Publisher',blog_publisher)\n",
    "\n",
    "# define the edges\n",
    "blog_workflow.add_edge(START,'Blog Writer')\n",
    "blog_workflow.add_edge('Blog Writer','Blog Reviewer')\n",
    "blog_workflow.add_conditional_edges('Blog Reviewer',reviewer_approval,{'Approved':'Human','Rejected':'Blog Writer'})\n",
    "blog_workflow.add_conditional_edges('Human',human_approval,{'Approved':'Blog Publisher','Rejected':'Blog Writer'})\n",
    "blog_workflow.add_edge('Blog Publisher',END)\n",
    "\n",
    "memory=MemorySaver()\n",
    "\n",
    "blogger=blog_workflow.compile(checkpointer=memory)\n",
    "\n",
    "# view\n",
    "display(Image(blogger.get_graph().draw_mermaid_png()))\n"
   ]
  },
  {
   "cell_type": "code",
   "execution_count": 8,
   "metadata": {},
   "outputs": [
    {
     "name": "stdout",
     "output_type": "stream",
     "text": [
      "Blog Successfully Published!\n",
      "Blog Information:\n",
      "Author:Tamilselvan\n",
      "Status:LIVE\n",
      "URL:http://tamil-selvanprema.blogspot.com/2025/02/oracle_38.html\n"
     ]
    },
    {
     "data": {
      "text/plain": [
       "{'topic': 'Oracle',\n",
       " 'content': \"Title: Unveiling the Mysteries of the Oracle: A Journey Through Time\\n\\nIntroduction\\nIn the realm of ancient mysteries and spiritual guidance, the Oracle stands out as a beacon of wisdom and prophecy, a revered figure whose pronouncements have shaped the course of history. From the ancient Greek oracles to modern-day interpretations, the concept of the Oracle is deeply embedded in human culture and continues to captivate the imagination. This blog post aims to explore the history, significance, and modern-day relevance of the Oracle.\\n\\nThe Ancient Oracle: A Historical Perspective\\nThe most famous Oracle in history is that of Delphi, located in central Greece. This Oracle, known as the Pythia, was a priestess who was believed to deliver prophecies from Apollo, the god of light and knowledge. People from all over the ancient world would journey to Delphi to seek guidance on matters ranging from personal dilemmas to decisions affecting entire nations. The Oracle’s pronouncements were considered divine and often influenced political and military decisions.\\n\\nBeyond Delphi, other ancient oracles existed throughout the Mediterranean and Near East, each with its own unique methods and beliefs. These oracles were often associated with natural phenomena, such as the Delphic Oracle’s connection to the fissures in the earth that emitted ethereal gases, believed to induce a trance-like state in the Pythia.\\n\\nThe Oracle in Mythology and Literature\\nMythology and literature have long been fascinated by the enigmatic figure of the Oracle. In Homer’s “Odyssey,” Teiresias, a blind prophet, serves as an Oracle, providing the hero Odysseus with critical information on his journey home. In Shakespeare’s “Macbeth,” the three witches are depicted as Oracles, foretelling events that guide the tragic hero. These narratives not only reflect the cultural importance of Oracles but also their mystical and often ominous nature.\\n\\nThe Modern Oracle: Spiritual Guidance in the 21st Century\\nIn contemporary times, the concept of the Oracle has evolved to encompass various forms of spiritual and psychological guidance. From astrologers and tarot card readers to motivational speakers and life coaches, the figure of the Oracle is reinterpreted through a modern lens. People seek out these modern-day Oracles for guidance, seeking clarity on their life paths and decisions.\\n\\nThe internet has become a platform where individuals can access a vast array of oracles, from online tarot readings to inspirational blogs. This democratization of spiritual guidance allows for a more personalized and accessible experience of seeking wisdom and direction.\\n\\nThe Oracle in Popular Culture\\nThe Oracle continues to be a prevalent figure in popular culture, often appearing in films, books, and television shows. Examples such as the Oracle in “The Matrix” trilogy, who reveals the truth to the protagonist Neo about the nature of reality, or the various Oracles in the “Harry Potter” series, which embody the mystical and prophetic elements of the wizarding world, demonstrate the enduring appeal and influence of the Oracle archetype.\\n\\nConclusion\\nThe Oracle, whether in its ancient form or its modern incarnations, continues to intrigue and inspire. It represents humanity's enduring quest for wisdom, guidance, and understanding. From the ancient halls of Delphi to the digital platforms of today, the Oracle remains a timeless symbol of the human search for meaning and direction in a complex world.\\n\\nAs we navigate the complexities of contemporary life, the guidance and wisdom sought from Oracles, whether in the form of ancient prophecy, psychological insight, or spiritual enlightenment, offer a way to find clarity and purpose. The Oracle, in all its forms, serves as a bridge between the known and the unknown, a guide through the labyrinth of life.\",\n",
       " 'reviewer': 'Approved',\n",
       " 'human': 'Approved',\n",
       " 'feedback': 'The blog content is well-written and comprehensive, covering the historical, literary, and modern-day aspects of the Oracle. It engages the reader and provides a good balance between factual information and cultural significance.',\n",
       " 'final_content': \"Title: Unveiling the Mysteries of the Oracle: A Journey Through Time\\n\\nIntroduction\\nIn the realm of ancient mysteries and spiritual guidance, the Oracle stands out as a beacon of wisdom and prophecy, a revered figure whose pronouncements have shaped the course of history. From the ancient Greek oracles to modern-day interpretations, the concept of the Oracle is deeply embedded in human culture and continues to captivate the imagination. This blog post aims to explore the history, significance, and modern-day relevance of the Oracle.\\n\\nThe Ancient Oracle: A Historical Perspective\\nThe most famous Oracle in history is that of Delphi, located in central Greece. This Oracle, known as the Pythia, was a priestess who was believed to deliver prophecies from Apollo, the god of light and knowledge. People from all over the ancient world would journey to Delphi to seek guidance on matters ranging from personal dilemmas to decisions affecting entire nations. The Oracle’s pronouncements were considered divine and often influenced political and military decisions.\\n\\nBeyond Delphi, other ancient oracles existed throughout the Mediterranean and Near East, each with its own unique methods and beliefs. These oracles were often associated with natural phenomena, such as the Delphic Oracle’s connection to the fissures in the earth that emitted ethereal gases, believed to induce a trance-like state in the Pythia.\\n\\nThe Oracle in Mythology and Literature\\nMythology and literature have long been fascinated by the enigmatic figure of the Oracle. In Homer’s “Odyssey,” Teiresias, a blind prophet, serves as an Oracle, providing the hero Odysseus with critical information on his journey home. In Shakespeare’s “Macbeth,” the three witches are depicted as Oracles, foretelling events that guide the tragic hero. These narratives not only reflect the cultural importance of Oracles but also their mystical and often ominous nature.\\n\\nThe Modern Oracle: Spiritual Guidance in the 21st Century\\nIn contemporary times, the concept of the Oracle has evolved to encompass various forms of spiritual and psychological guidance. From astrologers and tarot card readers to motivational speakers and life coaches, the figure of the Oracle is reinterpreted through a modern lens. People seek out these modern-day Oracles for guidance, seeking clarity on their life paths and decisions.\\n\\nThe internet has become a platform where individuals can access a vast array of oracles, from online tarot readings to inspirational blogs. This democratization of spiritual guidance allows for a more personalized and accessible experience of seeking wisdom and direction.\\n\\nThe Oracle in Popular Culture\\nThe Oracle continues to be a prevalent figure in popular culture, often appearing in films, books, and television shows. Examples such as the Oracle in “The Matrix” trilogy, who reveals the truth to the protagonist Neo about the nature of reality, or the various Oracles in the “Harry Potter” series, which embody the mystical and prophetic elements of the wizarding world, demonstrate the enduring appeal and influence of the Oracle archetype.\\n\\nConclusion\\nThe Oracle, whether in its ancient form or its modern incarnations, continues to intrigue and inspire. It represents humanity's enduring quest for wisdom, guidance, and understanding. From the ancient halls of Delphi to the digital platforms of today, the Oracle remains a timeless symbol of the human search for meaning and direction in a complex world.\\n\\nAs we navigate the complexities of contemporary life, the guidance and wisdom sought from Oracles, whether in the form of ancient prophecy, psychological insight, or spiritual enlightenment, offer a way to find clarity and purpose. The Oracle, in all its forms, serves as a bridge between the known and the unknown, a guide through the labyrinth of life.\",\n",
       " 'blog_url': 'http://tamil-selvanprema.blogspot.com/2025/02/oracle_38.html'}"
      ]
     },
     "execution_count": 8,
     "metadata": {},
     "output_type": "execute_result"
    }
   ],
   "source": [
    "config={'configurable':{'thread_id':'1'}}\n",
    "\n",
    "response=blogger.invoke(input={'topic':'Oracle'},config=config)\n",
    "response"
   ]
  }
 ],
 "metadata": {
  "kernelspec": {
   "display_name": "Python 3",
   "language": "python",
   "name": "python3"
  },
  "language_info": {
   "codemirror_mode": {
    "name": "ipython",
    "version": 3
   },
   "file_extension": ".py",
   "mimetype": "text/x-python",
   "name": "python",
   "nbconvert_exporter": "python",
   "pygments_lexer": "ipython3",
   "version": "3.12.0"
  }
 },
 "nbformat": 4,
 "nbformat_minor": 2
}
